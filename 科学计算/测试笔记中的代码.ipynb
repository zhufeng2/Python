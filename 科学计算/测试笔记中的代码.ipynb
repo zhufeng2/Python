{
 "metadata": {
  "language_info": {
   "codemirror_mode": {
    "name": "ipython",
    "version": 3
   },
   "file_extension": ".py",
   "mimetype": "text/x-python",
   "name": "python",
   "nbconvert_exporter": "python",
   "pygments_lexer": "ipython3",
   "version": "3.9.1-final"
  },
  "orig_nbformat": 2,
  "kernelspec": {
   "name": "python3",
   "display_name": "Python 3.9.1 64-bit",
   "metadata": {
    "interpreter": {
     "hash": "86ec717fd03fa0afd0980ac59270d099099d0d5f43dc2555c5dcfe517eed684f"
    }
   }
  }
 },
 "nbformat": 4,
 "nbformat_minor": 2,
 "cells": [
  {
   "cell_type": "code",
   "execution_count": 17,
   "metadata": {},
   "outputs": [
    {
     "output_type": "execute_result",
     "data": {
      "text/plain": [
       "I*sin(x) + cos(x)"
      ],
      "text/latex": "$\\displaystyle i \\sin{\\left(x \\right)} + \\cos{\\left(x \\right)}$"
     },
     "metadata": {},
     "execution_count": 17
    }
   ],
   "source": [
    "from sympy import *\n",
    "x =symbols(\"x\",real = True)\n",
    "tend = expand(exp(I*x),complex = True)\n",
    "tend\n"
   ]
  },
  {
   "cell_type": "code",
   "execution_count": 18,
   "metadata": {},
   "outputs": [
    {
     "output_type": "execute_result",
     "data": {
      "text/plain": [
       "1 + I*x - x**2/2 - I*x**3/6 + x**4/24 + I*x**5/120 - x**6/720 - I*x**7/5040 + x**8/40320 + I*x**9/362880 + O(x**10)"
      ],
      "text/latex": "$\\displaystyle 1 + i x - \\frac{x^{2}}{2} - \\frac{i x^{3}}{6} + \\frac{x^{4}}{24} + \\frac{i x^{5}}{120} - \\frac{x^{6}}{720} - \\frac{i x^{7}}{5040} + \\frac{x^{8}}{40320} + \\frac{i x^{9}}{362880} + O\\left(x^{10}\\right)$"
     },
     "metadata": {},
     "execution_count": 18
    }
   ],
   "source": [
    "from sympy import *\n",
    "x = symbols(\"x\",real = True)\n",
    "tend = series(exp(I*x),x,0,10)\n",
    "tend"
   ]
  },
  {
   "cell_type": "code",
   "execution_count": 19,
   "metadata": {},
   "outputs": [
    {
     "output_type": "execute_result",
     "data": {
      "text/plain": [
       "4*pi*r**3/3"
      ],
      "text/latex": "$\\displaystyle \\frac{4 \\pi r^{3}}{3}$"
     },
     "metadata": {},
     "execution_count": 19
    }
   ],
   "source": [
    "from sympy import *\n",
    "#这个positive=true相当重要，正整数\n",
    "r=symbols('r',positive=true)\n",
    "x,y=symbols('x,y')\n",
    "circle=2*integrate(sqrt(r**2-x**2),(x,-r,r))\n",
    "# .subs(原始对象，需要交换的对象)\n",
    "circle_x=circle.subs(r,sqrt(r**2-x**2))\n",
    "v=integrate(circle_x,(x,-r,r))\n",
    "v"
   ]
  },
  {
   "cell_type": "code",
   "execution_count": 20,
   "metadata": {},
   "outputs": [
    {
     "output_type": "stream",
     "name": "stderr",
     "text": [
      "C:\\Users\\18230\\AppData\\Local\\Programs\\Python\\Python39\\lib\\site-packages\\sympy\\core\\decorators.py:36: SymPyDeprecationWarning: \n\n_as_finite_diff has been deprecated since SymPy 1.1. Use\nDerivative.as_finite_difference instead. See\nhttps://github.com/sympy/sympy/issues/11410 for more info.\n\n  _warn_deprecation(wrapped, 3)\n"
     ]
    },
    {
     "output_type": "execute_result",
     "data": {
      "text/plain": [
       "-f(x)/h + f(h + x)/h"
      ],
      "text/latex": "$\\displaystyle - \\frac{f{\\left(x \\right)}}{h} + \\frac{f{\\left(h + x \\right)}}{h}$"
     },
     "metadata": {},
     "execution_count": 20
    }
   ],
   "source": [
    "from sympy import *\n",
    "x=symbols('x',real=True)\n",
    "h=symbols('h',positive=true)\n",
    "# cls指的是f是一个函数的符号\n",
    "f=symbols('f',cls=Function)\n",
    "diff_1=f(x).diff(x,1)\n",
    "diff_2=as_finite_diff(diff_1,[x,x+h])\n",
    "diff_2"
   ]
  },
  {
   "cell_type": "code",
   "execution_count": 26,
   "metadata": {},
   "outputs": [
    {
     "output_type": "execute_result",
     "data": {
      "text/plain": [
       "f(0) + 2*x*Subs(Derivative(f(_xi_1), _xi_1), _xi_1, 0) + 2*x**2*Subs(Derivative(f(_xi_1), (_xi_1, 2)), _xi_1, 0) + O(x**3)"
      ],
      "text/latex": "$\\displaystyle f{\\left(0 \\right)} + 2 x \\left. \\frac{d}{d \\xi_{1}} f{\\left(\\xi_{1} \\right)} \\right|_{\\substack{ \\xi_{1}=0 }} + 2 x^{2} \\left. \\frac{d^{2}}{d \\xi_{1}^{2}} f{\\left(\\xi_{1} \\right)} \\right|_{\\substack{ \\xi_{1}=0 }} + O\\left(x^{3}\\right)$"
     },
     "metadata": {},
     "execution_count": 26
    }
   ],
   "source": [
    "a =symbols(\"x\",real = True)\n",
    "x = symbols(\"x\",real = True)\n",
    "tend = series(f(x+a),a,0,3)\n",
    "tend"
   ]
  },
  {
   "cell_type": "code",
   "execution_count": 27,
   "metadata": {},
   "outputs": [
    {
     "output_type": "execute_result",
     "data": {
      "text/plain": [
       "f(0) + 2*x*Subs(Derivative(f(_xi_1), _xi_1), _xi_1, 0) + 2*x**2*Subs(Derivative(f(_xi_1), (_xi_1, 2)), _xi_1, 0) + O(x**3)"
      ],
      "text/latex": "$\\displaystyle f{\\left(0 \\right)} + 2 x \\left. \\frac{d}{d \\xi_{1}} f{\\left(\\xi_{1} \\right)} \\right|_{\\substack{ \\xi_{1}=0 }} + 2 x^{2} \\left. \\frac{d^{2}}{d \\xi_{1}^{2}} f{\\left(\\xi_{1} \\right)} \\right|_{\\substack{ \\xi_{1}=0 }} + O\\left(x^{3}\\right)$"
     },
     "metadata": {},
     "execution_count": 27
    }
   ],
   "source": [
    "a =symbols(\"x\",real = True)\n",
    "x = symbols(\"x\",real = True)\n",
    "tend = series(f(x+a),a,0,3)\n",
    "tend"
   ]
  },
  {
   "cell_type": "code",
   "execution_count": null,
   "metadata": {},
   "outputs": [],
   "source": []
  }
 ]
}