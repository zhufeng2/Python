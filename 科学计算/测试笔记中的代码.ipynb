{
 "metadata": {
  "language_info": {
   "codemirror_mode": {
    "name": "ipython",
    "version": 3
   },
   "file_extension": ".py",
   "mimetype": "text/x-python",
   "name": "python",
   "nbconvert_exporter": "python",
   "pygments_lexer": "ipython3",
   "version": "3.9.1-final"
  },
  "orig_nbformat": 2,
  "kernelspec": {
   "name": "python3",
   "display_name": "Python 3.9.1 64-bit",
   "metadata": {
    "interpreter": {
     "hash": "86ec717fd03fa0afd0980ac59270d099099d0d5f43dc2555c5dcfe517eed684f"
    }
   }
  }
 },
 "nbformat": 4,
 "nbformat_minor": 2,
 "cells": [
  {
   "cell_type": "code",
   "execution_count": 5,
   "metadata": {},
   "outputs": [
    {
     "output_type": "execute_result",
     "data": {
      "text/plain": [
       "4*pi*r**3/3"
      ],
      "text/latex": "$\\displaystyle \\frac{4 \\pi r^{3}}{3}$"
     },
     "metadata": {},
     "execution_count": 5
    }
   ],
   "source": [
    "from sympy import *\r\n",
    "#这个positive=true相当重要，正整数\r\n",
    "r=symbols('r',positive=true)\r\n",
    "x,y=symbols('x,y')\r\n",
    "circle=2*integrate(sqrt(r**2-x**2),(x,-r,r))\r\n",
    "circle_x=circle.subs(r,sqrt(r**2-x**2))\r\n",
    "v=integrate(circle_x,(x,-r,r))\r\n"
   ]
  }
 ]
}